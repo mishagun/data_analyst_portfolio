{
 "cells": [
  {
   "cell_type": "markdown",
   "metadata": {},
   "source": [
    "# User app behavior analysis for food startup company app"
   ]
  },
  {
   "cell_type": "markdown",
   "metadata": {},
   "source": [
    "### Project description"
   ]
  },
  {
   "cell_type": "markdown",
   "metadata": {},
   "source": [
    "In this project I, as a worker for a food startup company, am going to investigate user behavior for the company app. My analysis will have two main goals:\n",
    "1. Investigate user behavior, study user funnel, find out how users reach the purchase stage, how many users actually make it to this stage and how many get stuck at previous stages.\n",
    "2. Analyse results of A/A/B test, that was conducted to find out if changing app fonts can increase conversion."
   ]
  },
  {
   "cell_type": "markdown",
   "metadata": {},
   "source": [
    "### Table of Contents\n",
    "\n",
    "* [Step 1. Data Preprocessing](#chapter1)\n",
    " \n",
    "* [Step 2. Study and check the data](#chapter2) \n",
    "    * [How many events are in the logs?](#section_2_1)\n",
    "    * [How many users are in the logs? What's the average number of events per user?](#section_2_2)\n",
    "    * [What period of time does the data cover? Find the maximum and the minimum date. Plot a histogram by date and time](#section_2_3)\n",
    "    * [Make sure you have users from all three experimental groups.](#section_2_3)\n",
    "    * [Conclusion](#section_2_4)\n",
    "* [Step 3. Study the event funnel](#chapter3)\n",
    "    * [See what events are in the logs and their frequency of occurrence. Sort them by frequency](#section_3_1)\n",
    "    * [Find the number of users who performed each of these actions. Sort the events by the number of users. Calculate the proportion of users who performed the action at least once.](#section_3_2)\n",
    "    * [In what order do you think the actions took place. Are all of them part of a single sequence?](#section_3_3)\n",
    "    * [Use the event funnel to find the share of users that proceed from each stage to the next.](#section_3_4)\n",
    "    * [At what stage do you lose the most users? What share of users make the entire journey from their first event to payment?](#section_3_5)\n",
    "    * [Conclusion](#section_3_6)\n",
    "* [Step 4. Study the results of the experiment](#chapter4)\n",
    "    * [How many users are there in each group?](#section_4_1)\n",
    "    * [We have two control groups in the A/A test, where we check our mechanisms and calculations. See if there is a statistically significant difference between samples 246 and 247.](#section_4_2)\n",
    "    * [Check for statistically significant difference between control groups and group with altered fonts.](#section_4_3)\n",
    "    * [Conclusion](#section_4_4)\n",
    "* [General Conclusion](#chapter5)\n",
    " "
   ]
  },
  {
   "cell_type": "markdown",
   "metadata": {},
   "source": [
    "## Step 1. Data Preprocessing <a class=\"anchor\" id=\"chapter1\"></a>\n"
   ]
  },
  {
   "cell_type": "code",
   "execution_count": 1,
   "metadata": {},
   "outputs": [],
   "source": [
    "#load libraries\n",
    "\n",
    "import matplotlib.pyplot as plt\n",
    "import matplotlib as mpl\n",
    "import re\n",
    "import numpy as np\n",
    "import pandas as pd\n",
    "import seaborn as sns\n",
    "import math as mth\n",
    "import warnings; warnings.simplefilter('ignore')\n",
    "import plotly.express as px\n",
    "!pip install -q usaddress \n",
    "import usaddress\n",
    "\n",
    "\n",
    "from functools import reduce\n",
    "from math import factorial\n",
    "from scipy import stats as st\n",
    "from statistics import mean \n",
    "from IPython.display import display\n",
    "from plotly import graph_objects as go\n",
    "\n",
    "pd.set_option('display.max_columns', 500)"
   ]
  },
  {
   "cell_type": "code",
   "execution_count": 2,
   "metadata": {},
   "outputs": [
    {
     "data": {
      "text/html": [
       "<div>\n",
       "<style scoped>\n",
       "    .dataframe tbody tr th:only-of-type {\n",
       "        vertical-align: middle;\n",
       "    }\n",
       "\n",
       "    .dataframe tbody tr th {\n",
       "        vertical-align: top;\n",
       "    }\n",
       "\n",
       "    .dataframe thead th {\n",
       "        text-align: right;\n",
       "    }\n",
       "</style>\n",
       "<table border=\"1\" class=\"dataframe\">\n",
       "  <thead>\n",
       "    <tr style=\"text-align: right;\">\n",
       "      <th></th>\n",
       "      <th>EventName</th>\n",
       "      <th>DeviceIDHash</th>\n",
       "      <th>EventTimestamp</th>\n",
       "      <th>ExpId</th>\n",
       "    </tr>\n",
       "  </thead>\n",
       "  <tbody>\n",
       "    <tr>\n",
       "      <th>48259</th>\n",
       "      <td>MainScreenAppear</td>\n",
       "      <td>436679880444653381</td>\n",
       "      <td>1564735147</td>\n",
       "      <td>248</td>\n",
       "    </tr>\n",
       "    <tr>\n",
       "      <th>59581</th>\n",
       "      <td>MainScreenAppear</td>\n",
       "      <td>3579460024691788772</td>\n",
       "      <td>1564754291</td>\n",
       "      <td>248</td>\n",
       "    </tr>\n",
       "    <tr>\n",
       "      <th>24171</th>\n",
       "      <td>CartScreenAppear</td>\n",
       "      <td>5547467181852761286</td>\n",
       "      <td>1564669938</td>\n",
       "      <td>246</td>\n",
       "    </tr>\n",
       "    <tr>\n",
       "      <th>24616</th>\n",
       "      <td>CartScreenAppear</td>\n",
       "      <td>2555214839587509656</td>\n",
       "      <td>1564670524</td>\n",
       "      <td>248</td>\n",
       "    </tr>\n",
       "    <tr>\n",
       "      <th>5506</th>\n",
       "      <td>MainScreenAppear</td>\n",
       "      <td>1453298361789539604</td>\n",
       "      <td>1564637314</td>\n",
       "      <td>247</td>\n",
       "    </tr>\n",
       "    <tr>\n",
       "      <th>233811</th>\n",
       "      <td>MainScreenAppear</td>\n",
       "      <td>378761015309962378</td>\n",
       "      <td>1565191239</td>\n",
       "      <td>248</td>\n",
       "    </tr>\n",
       "    <tr>\n",
       "      <th>32470</th>\n",
       "      <td>MainScreenAppear</td>\n",
       "      <td>4972984422817814446</td>\n",
       "      <td>1564681790</td>\n",
       "      <td>246</td>\n",
       "    </tr>\n",
       "    <tr>\n",
       "      <th>78781</th>\n",
       "      <td>MainScreenAppear</td>\n",
       "      <td>7272615589134403622</td>\n",
       "      <td>1564815483</td>\n",
       "      <td>247</td>\n",
       "    </tr>\n",
       "    <tr>\n",
       "      <th>24750</th>\n",
       "      <td>PaymentScreenSuccessful</td>\n",
       "      <td>596478621289313372</td>\n",
       "      <td>1564670703</td>\n",
       "      <td>247</td>\n",
       "    </tr>\n",
       "    <tr>\n",
       "      <th>10967</th>\n",
       "      <td>MainScreenAppear</td>\n",
       "      <td>8120185919191035504</td>\n",
       "      <td>1564649400</td>\n",
       "      <td>246</td>\n",
       "    </tr>\n",
       "  </tbody>\n",
       "</table>\n",
       "</div>"
      ],
      "text/plain": [
       "                      EventName         DeviceIDHash  EventTimestamp  ExpId\n",
       "48259          MainScreenAppear   436679880444653381      1564735147    248\n",
       "59581          MainScreenAppear  3579460024691788772      1564754291    248\n",
       "24171          CartScreenAppear  5547467181852761286      1564669938    246\n",
       "24616          CartScreenAppear  2555214839587509656      1564670524    248\n",
       "5506           MainScreenAppear  1453298361789539604      1564637314    247\n",
       "233811         MainScreenAppear   378761015309962378      1565191239    248\n",
       "32470          MainScreenAppear  4972984422817814446      1564681790    246\n",
       "78781          MainScreenAppear  7272615589134403622      1564815483    247\n",
       "24750   PaymentScreenSuccessful   596478621289313372      1564670703    247\n",
       "10967          MainScreenAppear  8120185919191035504      1564649400    246"
      ]
     },
     "execution_count": 2,
     "metadata": {},
     "output_type": "execute_result"
    }
   ],
   "source": [
    "#load dataset \n",
    "#logs = pd.read_csv('/datasets/logs_exp_us.csv', sep=\"\\t\") #for platform\n",
    "logs = pd.read_csv('./logs_exp_us.csv', sep=\"\\t\") #for platform\n",
    "#logs = pd.read_csv('logs_exp_us.csv', sep=\"\\t\") #for local use local\n",
    "logs.sample(10)"
   ]
  },
  {
   "cell_type": "code",
   "execution_count": 3,
   "metadata": {},
   "outputs": [],
   "source": [
    "#rename columns\n",
    "logs.columns = ['event', 'uid', 'timestamp', 'expid']"
   ]
  },
  {
   "cell_type": "code",
   "execution_count": 4,
   "metadata": {},
   "outputs": [
    {
     "name": "stdout",
     "output_type": "stream",
     "text": [
      "<class 'pandas.core.frame.DataFrame'>\n",
      "RangeIndex: 244126 entries, 0 to 244125\n",
      "Data columns (total 4 columns):\n",
      " #   Column     Non-Null Count   Dtype \n",
      "---  ------     --------------   ----- \n",
      " 0   event      244126 non-null  object\n",
      " 1   uid        244126 non-null  int64 \n",
      " 2   timestamp  244126 non-null  int64 \n",
      " 3   expid      244126 non-null  int64 \n",
      "dtypes: int64(3), object(1)\n",
      "memory usage: 7.5+ MB\n"
     ]
    },
    {
     "data": {
      "text/html": [
       "<div>\n",
       "<style scoped>\n",
       "    .dataframe tbody tr th:only-of-type {\n",
       "        vertical-align: middle;\n",
       "    }\n",
       "\n",
       "    .dataframe tbody tr th {\n",
       "        vertical-align: top;\n",
       "    }\n",
       "\n",
       "    .dataframe thead th {\n",
       "        text-align: right;\n",
       "    }\n",
       "</style>\n",
       "<table border=\"1\" class=\"dataframe\">\n",
       "  <thead>\n",
       "    <tr style=\"text-align: right;\">\n",
       "      <th></th>\n",
       "      <th>event</th>\n",
       "      <th>uid</th>\n",
       "      <th>timestamp</th>\n",
       "      <th>expid</th>\n",
       "    </tr>\n",
       "  </thead>\n",
       "  <tbody>\n",
       "    <tr>\n",
       "      <th>count</th>\n",
       "      <td>244126</td>\n",
       "      <td>2.441260e+05</td>\n",
       "      <td>2.441260e+05</td>\n",
       "      <td>244126.000000</td>\n",
       "    </tr>\n",
       "    <tr>\n",
       "      <th>unique</th>\n",
       "      <td>5</td>\n",
       "      <td>NaN</td>\n",
       "      <td>NaN</td>\n",
       "      <td>NaN</td>\n",
       "    </tr>\n",
       "    <tr>\n",
       "      <th>top</th>\n",
       "      <td>MainScreenAppear</td>\n",
       "      <td>NaN</td>\n",
       "      <td>NaN</td>\n",
       "      <td>NaN</td>\n",
       "    </tr>\n",
       "    <tr>\n",
       "      <th>freq</th>\n",
       "      <td>119205</td>\n",
       "      <td>NaN</td>\n",
       "      <td>NaN</td>\n",
       "      <td>NaN</td>\n",
       "    </tr>\n",
       "    <tr>\n",
       "      <th>mean</th>\n",
       "      <td>NaN</td>\n",
       "      <td>4.627568e+18</td>\n",
       "      <td>1.564914e+09</td>\n",
       "      <td>247.022296</td>\n",
       "    </tr>\n",
       "    <tr>\n",
       "      <th>std</th>\n",
       "      <td>NaN</td>\n",
       "      <td>2.642425e+18</td>\n",
       "      <td>1.771343e+05</td>\n",
       "      <td>0.824434</td>\n",
       "    </tr>\n",
       "    <tr>\n",
       "      <th>min</th>\n",
       "      <td>NaN</td>\n",
       "      <td>6.888747e+15</td>\n",
       "      <td>1.564030e+09</td>\n",
       "      <td>246.000000</td>\n",
       "    </tr>\n",
       "    <tr>\n",
       "      <th>25%</th>\n",
       "      <td>NaN</td>\n",
       "      <td>2.372212e+18</td>\n",
       "      <td>1.564757e+09</td>\n",
       "      <td>246.000000</td>\n",
       "    </tr>\n",
       "    <tr>\n",
       "      <th>50%</th>\n",
       "      <td>NaN</td>\n",
       "      <td>4.623192e+18</td>\n",
       "      <td>1.564919e+09</td>\n",
       "      <td>247.000000</td>\n",
       "    </tr>\n",
       "    <tr>\n",
       "      <th>75%</th>\n",
       "      <td>NaN</td>\n",
       "      <td>6.932517e+18</td>\n",
       "      <td>1.565075e+09</td>\n",
       "      <td>248.000000</td>\n",
       "    </tr>\n",
       "    <tr>\n",
       "      <th>max</th>\n",
       "      <td>NaN</td>\n",
       "      <td>9.222603e+18</td>\n",
       "      <td>1.565213e+09</td>\n",
       "      <td>248.000000</td>\n",
       "    </tr>\n",
       "  </tbody>\n",
       "</table>\n",
       "</div>"
      ],
      "text/plain": [
       "                   event           uid     timestamp          expid\n",
       "count             244126  2.441260e+05  2.441260e+05  244126.000000\n",
       "unique                 5           NaN           NaN            NaN\n",
       "top     MainScreenAppear           NaN           NaN            NaN\n",
       "freq              119205           NaN           NaN            NaN\n",
       "mean                 NaN  4.627568e+18  1.564914e+09     247.022296\n",
       "std                  NaN  2.642425e+18  1.771343e+05       0.824434\n",
       "min                  NaN  6.888747e+15  1.564030e+09     246.000000\n",
       "25%                  NaN  2.372212e+18  1.564757e+09     246.000000\n",
       "50%                  NaN  4.623192e+18  1.564919e+09     247.000000\n",
       "75%                  NaN  6.932517e+18  1.565075e+09     248.000000\n",
       "max                  NaN  9.222603e+18  1.565213e+09     248.000000"
      ]
     },
     "metadata": {},
     "output_type": "display_data"
    }
   ],
   "source": [
    "logs.info()\n",
    "display(logs.describe(include=\"all\"))"
   ]
  },
  {
   "cell_type": "code",
   "execution_count": 5,
   "metadata": {},
   "outputs": [
    {
     "name": "stdout",
     "output_type": "stream",
     "text": [
      "<class 'pandas.core.frame.DataFrame'>\n",
      "RangeIndex: 244126 entries, 0 to 244125\n",
      "Data columns (total 5 columns):\n",
      " #   Column     Non-Null Count   Dtype         \n",
      "---  ------     --------------   -----         \n",
      " 0   event      244126 non-null  category      \n",
      " 1   uid        244126 non-null  int64         \n",
      " 2   timestamp  244126 non-null  int64         \n",
      " 3   expid      244126 non-null  category      \n",
      " 4   datetime   244126 non-null  datetime64[ns]\n",
      "dtypes: category(2), datetime64[ns](1), int64(2)\n",
      "memory usage: 6.1 MB\n"
     ]
    }
   ],
   "source": [
    "#convert  columns to right formats\n",
    "logs['datetime'] = pd.to_datetime(logs.timestamp, unit='s')\n",
    "logs['expid'] = logs.expid.astype('category')\n",
    "logs['event'] = logs.event.astype('category')\n",
    "logs.info()"
   ]
  },
  {
   "cell_type": "markdown",
   "metadata": {},
   "source": [
    "Add a separate column for dates."
   ]
  },
  {
   "cell_type": "code",
   "execution_count": 6,
   "metadata": {},
   "outputs": [],
   "source": [
    "logs['date'] = logs.datetime.astype('datetime64[D]')"
   ]
  },
  {
   "cell_type": "code",
   "execution_count": 7,
   "metadata": {
    "scrolled": true
   },
   "outputs": [
    {
     "data": {
      "text/html": [
       "<div>\n",
       "<style scoped>\n",
       "    .dataframe tbody tr th:only-of-type {\n",
       "        vertical-align: middle;\n",
       "    }\n",
       "\n",
       "    .dataframe tbody tr th {\n",
       "        vertical-align: top;\n",
       "    }\n",
       "\n",
       "    .dataframe thead th {\n",
       "        text-align: right;\n",
       "    }\n",
       "</style>\n",
       "<table border=\"1\" class=\"dataframe\">\n",
       "  <thead>\n",
       "    <tr style=\"text-align: right;\">\n",
       "      <th></th>\n",
       "      <th>event</th>\n",
       "      <th>uid</th>\n",
       "      <th>timestamp</th>\n",
       "      <th>expid</th>\n",
       "      <th>datetime</th>\n",
       "      <th>date</th>\n",
       "    </tr>\n",
       "  </thead>\n",
       "  <tbody>\n",
       "    <tr>\n",
       "      <th>208551</th>\n",
       "      <td>PaymentScreenSuccessful</td>\n",
       "      <td>951001704752844842</td>\n",
       "      <td>1565116289</td>\n",
       "      <td>246</td>\n",
       "      <td>2019-08-06 18:31:29</td>\n",
       "      <td>2019-08-06</td>\n",
       "    </tr>\n",
       "    <tr>\n",
       "      <th>162625</th>\n",
       "      <td>MainScreenAppear</td>\n",
       "      <td>2857677218503028985</td>\n",
       "      <td>1565016122</td>\n",
       "      <td>247</td>\n",
       "      <td>2019-08-05 14:42:02</td>\n",
       "      <td>2019-08-05</td>\n",
       "    </tr>\n",
       "    <tr>\n",
       "      <th>179352</th>\n",
       "      <td>MainScreenAppear</td>\n",
       "      <td>6627774947018286010</td>\n",
       "      <td>1565066543</td>\n",
       "      <td>246</td>\n",
       "      <td>2019-08-06 04:42:23</td>\n",
       "      <td>2019-08-06</td>\n",
       "    </tr>\n",
       "    <tr>\n",
       "      <th>178458</th>\n",
       "      <td>CartScreenAppear</td>\n",
       "      <td>7528470328317847905</td>\n",
       "      <td>1565063212</td>\n",
       "      <td>248</td>\n",
       "      <td>2019-08-06 03:46:52</td>\n",
       "      <td>2019-08-06</td>\n",
       "    </tr>\n",
       "    <tr>\n",
       "      <th>90425</th>\n",
       "      <td>MainScreenAppear</td>\n",
       "      <td>5718835579824401175</td>\n",
       "      <td>1564834604</td>\n",
       "      <td>248</td>\n",
       "      <td>2019-08-03 12:16:44</td>\n",
       "      <td>2019-08-03</td>\n",
       "    </tr>\n",
       "  </tbody>\n",
       "</table>\n",
       "</div>"
      ],
      "text/plain": [
       "                          event                  uid   timestamp expid  \\\n",
       "208551  PaymentScreenSuccessful   951001704752844842  1565116289   246   \n",
       "162625         MainScreenAppear  2857677218503028985  1565016122   247   \n",
       "179352         MainScreenAppear  6627774947018286010  1565066543   246   \n",
       "178458         CartScreenAppear  7528470328317847905  1565063212   248   \n",
       "90425          MainScreenAppear  5718835579824401175  1564834604   248   \n",
       "\n",
       "                  datetime       date  \n",
       "208551 2019-08-06 18:31:29 2019-08-06  \n",
       "162625 2019-08-05 14:42:02 2019-08-05  \n",
       "179352 2019-08-06 04:42:23 2019-08-06  \n",
       "178458 2019-08-06 03:46:52 2019-08-06  \n",
       "90425  2019-08-03 12:16:44 2019-08-03  "
      ]
     },
     "execution_count": 7,
     "metadata": {},
     "output_type": "execute_result"
    }
   ],
   "source": [
    "logs.sample(5)"
   ]
  },
  {
   "cell_type": "markdown",
   "metadata": {},
   "source": [
    "### Conclusion\n",
    "\n",
    "I've got a dataframe that has 244126 entries. There are 5 types of events and 3 test groups.\n",
    "In this part I have changed formats of different columns and added dae column."
   ]
  },
  {
   "cell_type": "markdown",
   "metadata": {},
   "source": [
    "## Step 2. Study and check the data <a class=\"anchor\" id=\"chapter2\"></a>\n"
   ]
  },
  {
   "cell_type": "markdown",
   "metadata": {},
   "source": [
    "### How many events are in the logs? <a class=\"anchor\" id=\"section_2_1\"></a>\n"
   ]
  },
  {
   "cell_type": "code",
   "execution_count": 8,
   "metadata": {},
   "outputs": [
    {
     "data": {
      "text/plain": [
       "244126"
      ]
     },
     "execution_count": 8,
     "metadata": {},
     "output_type": "execute_result"
    }
   ],
   "source": [
    "logs.event.count()"
   ]
  },
  {
   "cell_type": "code",
   "execution_count": 9,
   "metadata": {},
   "outputs": [
    {
     "data": {
      "text/plain": [
       "MainScreenAppear           119205\n",
       "OffersScreenAppear          46825\n",
       "CartScreenAppear            42731\n",
       "PaymentScreenSuccessful     34313\n",
       "Tutorial                     1052\n",
       "Name: event, dtype: int64"
      ]
     },
     "execution_count": 9,
     "metadata": {},
     "output_type": "execute_result"
    }
   ],
   "source": [
    "logs.event.value_counts()"
   ]
  },
  {
   "cell_type": "markdown",
   "metadata": {},
   "source": [
    "There is total of 244126 events, they are sepparated in 5 groups."
   ]
  },
  {
   "cell_type": "markdown",
   "metadata": {},
   "source": [
    "### How many users are in the logs? What's the average number of events per user? <a class=\"anchor\" id=\"section_2_2\"></a>\n"
   ]
  },
  {
   "cell_type": "code",
   "execution_count": 10,
   "metadata": {},
   "outputs": [
    {
     "name": "stdout",
     "output_type": "stream",
     "text": [
      "There are 7551 users in the logs.\n"
     ]
    }
   ],
   "source": [
    "print ('There are',logs.uid.nunique(), 'users in the logs.')"
   ]
  },
  {
   "cell_type": "code",
   "execution_count": 11,
   "metadata": {},
   "outputs": [
    {
     "name": "stdout",
     "output_type": "stream",
     "text": [
      "On average user has 32.3 events.\n"
     ]
    }
   ],
   "source": [
    "print ('On average user has {:.1f} events.'.format(logs.groupby('uid')['event'].count().mean()))"
   ]
  },
  {
   "cell_type": "markdown",
   "metadata": {},
   "source": [
    "### What period of time does the data cover? Find the maximum and the minimum date. Plot a histogram by date and time. <a class=\"anchor\" id=\"section_2_3\"></a>"
   ]
  },
  {
   "cell_type": "code",
   "execution_count": 12,
   "metadata": {},
   "outputs": [
    {
     "name": "stdout",
     "output_type": "stream",
     "text": [
      "Maximum date: 2019-07-25 00:00:00\n",
      "Minumum date: 2019-08-07 00:00:00\n",
      "This data covers 14 days of events\n"
     ]
    }
   ],
   "source": [
    "print ('Maximum date:',logs.date.min())\n",
    "print ('Minumum date:',logs.date.max())\n",
    "print ('This data covers {:.0f} days of events'.format((logs.datetime.max()-logs.datetime.min()).round('1D').days))"
   ]
  },
  {
   "cell_type": "code",
   "execution_count": 13,
   "metadata": {},
   "outputs": [
    {
     "data": {
      "image/png": "[encoded data removed]",
      "text/plain": [
       "<Figure size 864x504 with 1 Axes>"
      ]
     },
     "metadata": {
      "needs_background": "light"
     },
     "output_type": "display_data"
    }
   ],
   "source": [
    "fig, ax = plt.subplots(figsize=(12, 7))\n",
    "logs.datetime.hist(ax=ax, bins='auto')\n",
    "ax.set_xlabel('Date')\n",
    "ax.set_ylabel('Amount of Actions')\n",
    "ax.set_title('Histogram of user actions by days and time',fontsize=16)\n",
    "plt.xticks(pd.date_range(start=\"2019-07-25\",end=\"2019-08-07\").tolist(), rotation=45)\n",
    "plt.show()"
   ]
  },
  {
   "cell_type": "markdown",
   "metadata": {},
   "source": [
    "From this graph I see that here there are some dates on which there hasn't been a lot of action. Older events could end up in some users' logs for technical reasons. I'll drop all the rows with actions that happened before August, 1st."
   ]
  },
  {
   "cell_type": "code",
   "execution_count": 14,
   "metadata": {},
   "outputs": [
    {
     "name": "stdout",
     "output_type": "stream",
     "text": [
      "Clean data covers 7 days of events\n"
     ]
    }
   ],
   "source": [
    "logs_clean = logs[logs['date'] >=\"2019-08-01\"]\n",
    "print ('Clean data covers {:.0f} days of events'.format((logs_clean.datetime.max()-logs_clean.datetime.min()).round('1D').days))"
   ]
  },
  {
   "cell_type": "markdown",
   "metadata": {},
   "source": [
    "#### Did you lose many events and users when excluding the older data?\n"
   ]
  },
  {
   "cell_type": "code",
   "execution_count": 15,
   "metadata": {},
   "outputs": [
    {
     "name": "stdout",
     "output_type": "stream",
     "text": [
      "By cleaning the data I have lost 1.16% of data, which is 2828 rows.\n"
     ]
    }
   ],
   "source": [
    "print('By cleaning the data I have lost {:.2%} of data, which is {:.0f} rows.'\n",
    "      .format((1-logs_clean.shape[0]/logs.shape[0]),(logs.shape[0]-logs_clean.shape[0])))\n"
   ]
  },
  {
   "cell_type": "markdown",
   "metadata": {},
   "source": [
    "That's a pity that I had to drop this data, but it's less than 5% of all the data and it was necessary for this data analysis."
   ]
  },
  {
   "cell_type": "markdown",
   "metadata": {},
   "source": [
    "### Make sure you have users from all three experimental groups. <a class=\"anchor\" id=\"section_2_4\"></a>\n"
   ]
  },
  {
   "cell_type": "code",
   "execution_count": 16,
   "metadata": {},
   "outputs": [
    {
     "data": {
      "text/plain": [
       "248    84726\n",
       "246    79425\n",
       "247    77147\n",
       "Name: expid, dtype: int64"
      ]
     },
     "execution_count": 16,
     "metadata": {},
     "output_type": "execute_result"
    }
   ],
   "source": [
    "logs_clean.expid.value_counts()"
   ]
  },
  {
   "cell_type": "markdown",
   "metadata": {},
   "source": [
    "I for sure have users from all three experimental groups. Now let's check how many rows were dropped from each group."
   ]
  },
  {
   "cell_type": "code",
   "execution_count": 17,
   "metadata": {},
   "outputs": [
    {
     "data": {
      "text/plain": [
       "248    1021\n",
       "246     879\n",
       "247     928\n",
       "Name: expid, dtype: int64"
      ]
     },
     "execution_count": 17,
     "metadata": {},
     "output_type": "execute_result"
    }
   ],
   "source": [
    "logs.expid.value_counts()-logs_clean.expid.value_counts()"
   ]
  },
  {
   "cell_type": "markdown",
   "metadata": {},
   "source": [
    "Event though amount of dropped rows differs, it's good that there was pretty simillar amount of rows dropped from each dataset."
   ]
  },
  {
   "cell_type": "markdown",
   "metadata": {},
   "source": [
    "### Conclusion <a class=\"anchor\" id=\"section_2_5\"></a>"
   ]
  },
  {
   "cell_type": "markdown",
   "metadata": {},
   "source": [
    "Here I have discovered that:\n",
    "1. There are 7551 total users in logs;\n",
    "2. On average one user makes 32.3 events;\n",
    "3. There are 14 days in original dataframe, but only data since August, 1st seems to be usable;\n",
    "4. All experimental groups have simillar number of entries."
   ]
  },
  {
   "cell_type": "markdown",
   "metadata": {},
   "source": [
    "## Step 3. Study the event funnel <a class=\"anchor\" id=\"chapter3\"></a>"
   ]
  },
  {
   "cell_type": "markdown",
   "metadata": {},
   "source": [
    "### See what events are in the logs and their frequency of occurrence. Sort them by frequency. <a class=\"anchor\" id=\"section_3_1\"></a>\n",
    "\n"
   ]
  },
  {
   "cell_type": "code",
   "execution_count": 18,
   "metadata": {},
   "outputs": [
    {
     "data": {
      "text/plain": [
       "MainScreenAppear           117431\n",
       "OffersScreenAppear          46350\n",
       "CartScreenAppear            42365\n",
       "PaymentScreenSuccessful     34113\n",
       "Tutorial                     1039\n",
       "Name: event, dtype: int64"
      ]
     },
     "execution_count": 18,
     "metadata": {},
     "output_type": "execute_result"
    }
   ],
   "source": [
    "logs_clean.event.value_counts()"
   ]
  },
  {
   "cell_type": "markdown",
   "metadata": {},
   "source": [
    "There are 5 different events in the startup app. The most popular one is main display appear, the event that has occured the least is tutorial. Seems like not many users get there, this may be due to the fact that <i>Tutorial</i> isn't a part of shopping funnel, it might be an extra action, that you can do if you want to get additional info."
   ]
  },
  {
   "cell_type": "markdown",
   "metadata": {},
   "source": [
    "### Find the number of users who performed each of these actions. Sort the events by the number of users. Calculate the proportion of users who performed the action at least once. <a class=\"anchor\" id=\"section_3_2\"></a>"
   ]
  },
  {
   "cell_type": "code",
   "execution_count": 19,
   "metadata": {},
   "outputs": [
    {
     "data": {
      "text/html": [
       "<div>\n",
       "<style scoped>\n",
       "    .dataframe tbody tr th:only-of-type {\n",
       "        vertical-align: middle;\n",
       "    }\n",
       "\n",
       "    .dataframe tbody tr th {\n",
       "        vertical-align: top;\n",
       "    }\n",
       "\n",
       "    .dataframe thead th {\n",
       "        text-align: right;\n",
       "    }\n",
       "</style>\n",
       "<table border=\"1\" class=\"dataframe\">\n",
       "  <thead>\n",
       "    <tr style=\"text-align: right;\">\n",
       "      <th></th>\n",
       "      <th>event</th>\n",
       "      <th>unique_users</th>\n",
       "    </tr>\n",
       "  </thead>\n",
       "  <tbody>\n",
       "    <tr>\n",
       "      <th>1</th>\n",
       "      <td>MainScreenAppear</td>\n",
       "      <td>7419</td>\n",
       "    </tr>\n",
       "    <tr>\n",
       "      <th>2</th>\n",
       "      <td>OffersScreenAppear</td>\n",
       "      <td>4593</td>\n",
       "    </tr>\n",
       "    <tr>\n",
       "      <th>0</th>\n",
       "      <td>CartScreenAppear</td>\n",
       "      <td>3734</td>\n",
       "    </tr>\n",
       "    <tr>\n",
       "      <th>3</th>\n",
       "      <td>PaymentScreenSuccessful</td>\n",
       "      <td>3539</td>\n",
       "    </tr>\n",
       "    <tr>\n",
       "      <th>4</th>\n",
       "      <td>Tutorial</td>\n",
       "      <td>840</td>\n",
       "    </tr>\n",
       "  </tbody>\n",
       "</table>\n",
       "</div>"
      ],
      "text/plain": [
       "                     event  unique_users\n",
       "1         MainScreenAppear          7419\n",
       "2       OffersScreenAppear          4593\n",
       "0         CartScreenAppear          3734\n",
       "3  PaymentScreenSuccessful          3539\n",
       "4                 Tutorial           840"
      ]
     },
     "execution_count": 19,
     "metadata": {},
     "output_type": "execute_result"
    }
   ],
   "source": [
    "#find how many unique users have performed each event\n",
    "user_event = (logs_clean\n",
    "              .groupby('event')\n",
    "              .agg(unique_users=('uid','nunique'))\n",
    "              .reset_index()\n",
    "              .sort_values('unique_users', ascending=False)\n",
    "             )\n",
    "user_event"
   ]
  },
  {
   "cell_type": "markdown",
   "metadata": {},
   "source": [
    "So here I see that there are 7419 users who have seen main screen, 4593 have recieved offers screen, 3734 have got to their shopping cart, 3539 have made a payment on the webside and 840 have seen tutorial. Now let's find total number of users."
   ]
  },
  {
   "cell_type": "code",
   "execution_count": 20,
   "metadata": {},
   "outputs": [
    {
     "name": "stdout",
     "output_type": "stream",
     "text": [
      "Number of users: 7534\n"
     ]
    }
   ],
   "source": [
    "print ('Number of users:', logs_clean.uid.nunique())"
   ]
  },
  {
   "cell_type": "markdown",
   "metadata": {},
   "source": [
    "There are more than a hundred users who have had some action, but have not been to main screen, this looks a little bit weird. Let's have a look at them."
   ]
  },
  {
   "cell_type": "code",
   "execution_count": 21,
   "metadata": {},
   "outputs": [
    {
     "data": {
      "text/html": [
       "<div>\n",
       "<style scoped>\n",
       "    .dataframe tbody tr th:only-of-type {\n",
       "        vertical-align: middle;\n",
       "    }\n",
       "\n",
       "    .dataframe tbody tr th {\n",
       "        vertical-align: top;\n",
       "    }\n",
       "\n",
       "    .dataframe thead th {\n",
       "        text-align: right;\n",
       "    }\n",
       "</style>\n",
       "<table border=\"1\" class=\"dataframe\">\n",
       "  <thead>\n",
       "    <tr style=\"text-align: right;\">\n",
       "      <th></th>\n",
       "      <th>event</th>\n",
       "      <th>unique_users</th>\n",
       "    </tr>\n",
       "  </thead>\n",
       "  <tbody>\n",
       "    <tr>\n",
       "      <th>0</th>\n",
       "      <td>CartScreenAppear</td>\n",
       "      <td>99</td>\n",
       "    </tr>\n",
       "    <tr>\n",
       "      <th>1</th>\n",
       "      <td>MainScreenAppear</td>\n",
       "      <td>0</td>\n",
       "    </tr>\n",
       "    <tr>\n",
       "      <th>2</th>\n",
       "      <td>OffersScreenAppear</td>\n",
       "      <td>111</td>\n",
       "    </tr>\n",
       "    <tr>\n",
       "      <th>3</th>\n",
       "      <td>PaymentScreenSuccessful</td>\n",
       "      <td>98</td>\n",
       "    </tr>\n",
       "    <tr>\n",
       "      <th>4</th>\n",
       "      <td>Tutorial</td>\n",
       "      <td>4</td>\n",
       "    </tr>\n",
       "  </tbody>\n",
       "</table>\n",
       "</div>"
      ],
      "text/plain": [
       "                     event  unique_users\n",
       "0         CartScreenAppear            99\n",
       "1         MainScreenAppear             0\n",
       "2       OffersScreenAppear           111\n",
       "3  PaymentScreenSuccessful            98\n",
       "4                 Tutorial             4"
      ]
     },
     "execution_count": 21,
     "metadata": {},
     "output_type": "execute_result"
    }
   ],
   "source": [
    "users_from_main_screen = logs_clean.query('event == \"MainScreenAppear\"')['uid'].unique()\n",
    "logs_clean.query('uid not in @users_from_main_screen').groupby('event').agg(unique_users=('uid','nunique')).reset_index()"
   ]
  },
  {
   "cell_type": "markdown",
   "metadata": {},
   "source": [
    "Maybe it's a system bug or maybe there is a possibility to get to other screens without ever getting. In real life case I would have checked that with developers.\n",
    "\n",
    "Now let's find ratio of users who users who have performed each action to all users."
   ]
  },
  {
   "cell_type": "code",
   "execution_count": 22,
   "metadata": {},
   "outputs": [
    {
     "data": {
      "text/html": [
       "<div>\n",
       "<style scoped>\n",
       "    .dataframe tbody tr th:only-of-type {\n",
       "        vertical-align: middle;\n",
       "    }\n",
       "\n",
       "    .dataframe tbody tr th {\n",
       "        vertical-align: top;\n",
       "    }\n",
       "\n",
       "    .dataframe thead th {\n",
       "        text-align: right;\n",
       "    }\n",
       "</style>\n",
       "<table border=\"1\" class=\"dataframe\">\n",
       "  <thead>\n",
       "    <tr style=\"text-align: right;\">\n",
       "      <th></th>\n",
       "      <th>event</th>\n",
       "      <th>unique_users</th>\n",
       "      <th>user_ratio</th>\n",
       "    </tr>\n",
       "  </thead>\n",
       "  <tbody>\n",
       "    <tr>\n",
       "      <th>1</th>\n",
       "      <td>MainScreenAppear</td>\n",
       "      <td>7419</td>\n",
       "      <td>0.984736</td>\n",
       "    </tr>\n",
       "    <tr>\n",
       "      <th>2</th>\n",
       "      <td>OffersScreenAppear</td>\n",
       "      <td>4593</td>\n",
       "      <td>0.609636</td>\n",
       "    </tr>\n",
       "    <tr>\n",
       "      <th>0</th>\n",
       "      <td>CartScreenAppear</td>\n",
       "      <td>3734</td>\n",
       "      <td>0.495620</td>\n",
       "    </tr>\n",
       "    <tr>\n",
       "      <th>3</th>\n",
       "      <td>PaymentScreenSuccessful</td>\n",
       "      <td>3539</td>\n",
       "      <td>0.469737</td>\n",
       "    </tr>\n",
       "    <tr>\n",
       "      <th>4</th>\n",
       "      <td>Tutorial</td>\n",
       "      <td>840</td>\n",
       "      <td>0.111495</td>\n",
       "    </tr>\n",
       "  </tbody>\n",
       "</table>\n",
       "</div>"
      ],
      "text/plain": [
       "                     event  unique_users  user_ratio\n",
       "1         MainScreenAppear          7419    0.984736\n",
       "2       OffersScreenAppear          4593    0.609636\n",
       "0         CartScreenAppear          3734    0.495620\n",
       "3  PaymentScreenSuccessful          3539    0.469737\n",
       "4                 Tutorial           840    0.111495"
      ]
     },
     "execution_count": 22,
     "metadata": {},
     "output_type": "execute_result"
    }
   ],
   "source": [
    "user_event['user_ratio'] = user_event['unique_users'] / logs_clean.uid.nunique()\n",
    "user_event"
   ]
  },
  {
   "cell_type": "code",
   "execution_count": 23,
   "metadata": {},
   "outputs": [
    {
     "data": {
      "image/png": "[encoded data removed]",
      "text/plain": [
       "<Figure size 864x504 with 1 Axes>"
      ]
     },
     "metadata": {
      "needs_background": "light"
     },
     "output_type": "display_data"
    }
   ],
   "source": [
    "# define colors\n",
    "colors = ['lightblue', 'mediumturquoise', 'orange', 'lightgreen', 'plum', 'bisque','lavender',\n",
    "          'lightcyan','palevioletred']\n",
    "#define axes\n",
    "fig, ax = plt.subplots(figsize=(12, 7))\n",
    "ax.set_title('Ratio of Users Who Performed Each Action ',fontsize=16)\n",
    "plt.xlabel('Event',fontsize=12)\n",
    "plt.ylabel('Amount of users',fontsize=12)\n",
    "\n",
    "#plot\n",
    "g = plt.bar(user_event['event'], user_event['unique_users'],\n",
    "        0.7, label='Users',color=colors[1], alpha=0.8)\n",
    "g1 = plt.bar(user_event['event'], logs_clean.uid.nunique(), 0.7,\n",
    "     label='All Users', color=colors[6], alpha=0.4, edgecolor='black',linewidth=2)\n",
    "\n",
    "#values for fillig the bars\n",
    "bar_label = (user_event['user_ratio']*100).round(1).tolist() \n",
    "bar_label = [str(label) for label in bar_label]\n",
    "\n",
    "#add percentages\n",
    "def autolabel(rects):\n",
    "    for idx,rect in enumerate(g):\n",
    "        height = rect.get_height()\n",
    "        ax.text(rect.get_x() + rect.get_width()/2., 1.05*height,\n",
    "                bar_label[idx]+\" %\",\n",
    "                ha='center', va='bottom', rotation=0, size=15)\n",
    "autolabel(g)  \n",
    "plt.ylim(0,8400)\n",
    "plt.legend(bbox_to_anchor=(1.04, 1), loc='upper left', borderaxespad=0.)\n",
    "plt.grid()\n",
    "plt.show()"
   ]
  },
  {
   "cell_type": "markdown",
   "metadata": {},
   "source": [
    "Here I see that 98,4 all users have been to main screen, and for the folowing events amount of users that got there declines. Tutorial continue to be an exception with small percentage of users there."
   ]
  },
  {
   "cell_type": "markdown",
   "metadata": {},
   "source": [
    "\n",
    "Now let's find ratio of users who have performed more than one action, compared to all users."
   ]
  },
  {
   "cell_type": "code",
   "execution_count": 24,
   "metadata": {},
   "outputs": [
    {
     "data": {
      "text/html": [
       "<div>\n",
       "<style scoped>\n",
       "    .dataframe tbody tr th:only-of-type {\n",
       "        vertical-align: middle;\n",
       "    }\n",
       "\n",
       "    .dataframe tbody tr th {\n",
       "        vertical-align: top;\n",
       "    }\n",
       "\n",
       "    .dataframe thead th {\n",
       "        text-align: right;\n",
       "    }\n",
       "</style>\n",
       "<table border=\"1\" class=\"dataframe\">\n",
       "  <thead>\n",
       "    <tr style=\"text-align: right;\">\n",
       "      <th></th>\n",
       "      <th>event</th>\n",
       "      <th>active_users</th>\n",
       "      <th>unique_users</th>\n",
       "      <th>active_users_ratio</th>\n",
       "    </tr>\n",
       "  </thead>\n",
       "  <tbody>\n",
       "    <tr>\n",
       "      <th>0</th>\n",
       "      <td>CartScreenAppear</td>\n",
       "      <td>3262</td>\n",
       "      <td>7534</td>\n",
       "      <td>0.432971</td>\n",
       "    </tr>\n",
       "    <tr>\n",
       "      <th>1</th>\n",
       "      <td>MainScreenAppear</td>\n",
       "      <td>7173</td>\n",
       "      <td>7534</td>\n",
       "      <td>0.952084</td>\n",
       "    </tr>\n",
       "    <tr>\n",
       "      <th>2</th>\n",
       "      <td>OffersScreenAppear</td>\n",
       "      <td>3912</td>\n",
       "      <td>7534</td>\n",
       "      <td>0.519246</td>\n",
       "    </tr>\n",
       "    <tr>\n",
       "      <th>3</th>\n",
       "      <td>PaymentScreenSuccessful</td>\n",
       "      <td>2965</td>\n",
       "      <td>7534</td>\n",
       "      <td>0.393549</td>\n",
       "    </tr>\n",
       "    <tr>\n",
       "      <th>4</th>\n",
       "      <td>Tutorial</td>\n",
       "      <td>84</td>\n",
       "      <td>7534</td>\n",
       "      <td>0.011149</td>\n",
       "    </tr>\n",
       "  </tbody>\n",
       "</table>\n",
       "</div>"
      ],
      "text/plain": [
       "                     event  active_users  unique_users  active_users_ratio\n",
       "0         CartScreenAppear          3262          7534            0.432971\n",
       "1         MainScreenAppear          7173          7534            0.952084\n",
       "2       OffersScreenAppear          3912          7534            0.519246\n",
       "3  PaymentScreenSuccessful          2965          7534            0.393549\n",
       "4                 Tutorial            84          7534            0.011149"
      ]
     },
     "execution_count": 24,
     "metadata": {},
     "output_type": "execute_result"
    }
   ],
   "source": [
    "#get amount of events for each type of event for each user and\n",
    "df = logs_clean.groupby(['event','uid']).agg(events_per_user=('timestamp','nunique')).reset_index()\n",
    "\n",
    "#get total amount of users with more than one action and all unique users to one dataframe\n",
    "result = pd.merge(df.query('events_per_user > 1') #get users, who have had more than one event\n",
    "                  .groupby('event')\n",
    "                  .agg(active_users=('uid','count')) #get total number of these users\n",
    "                  .reset_index(),\n",
    "                  df.groupby('event').agg(unique_users=('events_per_user','count')).reset_index() \n",
    "                  , on=['event']) #merge with total number of unique users\n",
    "result['active_users_ratio'] = result['active_users'] /  result['unique_users'] #add ratio\n",
    "result"
   ]
  },
  {
   "cell_type": "code",
   "execution_count": 25,
   "metadata": {},
   "outputs": [
    {
     "data": {
      "image/png": "[encoded data removed]",
      "text/plain": [
       "<Figure size 864x504 with 1 Axes>"
      ]
     },
     "metadata": {
      "needs_background": "light"
     },
     "output_type": "display_data"
    }
   ],
   "source": [
    "\n",
    "#define axes\n",
    "fig, ax = plt.subplots(figsize=(12, 7))\n",
    "ax.set_title('Ratio of Users Who Performed More Than One Action ',fontsize=16)\n",
    "plt.xlabel('Event',fontsize=12)\n",
    "plt.ylabel('Amount of users',fontsize=12)\n",
    "\n",
    "#plot\n",
    "g = plt.bar(result['event'], result['active_users'],\n",
    "        0.7, label='Active Users',color=colors[1], alpha=0.8)\n",
    "g1 = plt.bar(result['event'], result['unique_users'], 0.7,\n",
    "     label='All Users', color=colors[6], alpha=0.4, edgecolor='black',linewidth=2)\n",
    "\n",
    "#values for fillig the bars\n",
    "bar_label = (result['active_users_ratio']*100).round(1).tolist() \n",
    "bar_label = [str(label) for label in bar_label]\n",
    "\n",
    "#add percentages\n",
    "autolabel(g)  \n",
    "plt.ylim(0,8000)\n",
    "plt.legend(bbox_to_anchor=(1.04, 1), loc='upper left', borderaxespad=0.)\n",
    "plt.grid()\n",
    "plt.show()"
   ]
  },
  {
   "cell_type": "markdown",
   "metadata": {},
   "source": [
    "Here I see that many users have one action happenening more than once. Except for tutorial, it continues to be unique action, that only some users come to and 90% of these users get there only once."
   ]
  },
  {
   "cell_type": "markdown",
   "metadata": {},
   "source": [
    "### In what order do you think the actions took place. Are all of them part of a single sequence? <a class=\"anchor\" id=\"section_3_3\"></a>\n"
   ]
  },
  {
   "cell_type": "markdown",
   "metadata": {},
   "source": [
    "From performed analysis it's obvious that <i>Tutorial</i> isn't part of the same sequenca as other events. From what I see the order of events in event funnel should look like this:\n",
    "\n",
    "<center><b><i> MainScreenAppear ——> OffersScreenAppear ——> CartScreenAppear ——> PaymentScreenSuccessful </i></b></center>\n",
    "\n",
    "But also offers shouldn't be neccesary, everything can work without them, so I'll make funnel even smaller:\n",
    "\n",
    "<center><b><i> MainScreenAppear ——> CartScreenAppear ——> PaymentScreenSuccessful </i></b></center>\n"
   ]
  },
  {
   "cell_type": "markdown",
   "metadata": {},
   "source": [
    "### Use the event funnel to find the share of users that proceed from each stage to the next.  <a class=\"anchor\" id=\"section_3_4\"></a>"
   ]
  },
  {
   "cell_type": "markdown",
   "metadata": {},
   "source": [
    "First let's get first of each event for all users."
   ]
  },
  {
   "cell_type": "code",
   "execution_count": 26,
   "metadata": {},
   "outputs": [],
   "source": [
    "df = (logs_clean\n",
    "      .groupby(['uid','event'])[['datetime']].min()\n",
    "      .reset_index()\n",
    "      .query('event.astype(\"str\") != \"Tutorial\" and event.astype(\"str\") != \"OffersScreenAppear\"')\n",
    "      .pivot_table(columns='event',index='uid',values='datetime', aggfunc='min')\n",
    "     )\n",
    "df = df.rename(columns=str).reset_index()\n",
    "df = df[['uid','MainScreenAppear','CartScreenAppear','PaymentScreenSuccessful']]\n"
   ]
  },
  {
   "cell_type": "code",
   "execution_count": 27,
   "metadata": {},
   "outputs": [
    {
     "data": {
      "text/html": [
       "<div>\n",
       "<style scoped>\n",
       "    .dataframe tbody tr th:only-of-type {\n",
       "        vertical-align: middle;\n",
       "    }\n",
       "\n",
       "    .dataframe tbody tr th {\n",
       "        vertical-align: top;\n",
       "    }\n",
       "\n",
       "    .dataframe thead th {\n",
       "        text-align: right;\n",
       "    }\n",
       "</style>\n",
       "<table border=\"1\" class=\"dataframe\">\n",
       "  <thead>\n",
       "    <tr style=\"text-align: right;\">\n",
       "      <th>event</th>\n",
       "      <th>uid</th>\n",
       "      <th>MainScreenAppear</th>\n",
       "      <th>CartScreenAppear</th>\n",
       "      <th>PaymentScreenSuccessful</th>\n",
       "    </tr>\n",
       "  </thead>\n",
       "  <tbody>\n",
       "    <tr>\n",
       "      <th>0</th>\n",
       "      <td>6888746892508752</td>\n",
       "      <td>2019-08-06 14:06:34</td>\n",
       "      <td>NaT</td>\n",
       "      <td>NaT</td>\n",
       "    </tr>\n",
       "    <tr>\n",
       "      <th>1</th>\n",
       "      <td>6909561520679493</td>\n",
       "      <td>2019-08-06 18:52:54</td>\n",
       "      <td>2019-08-06 18:52:58</td>\n",
       "      <td>2019-08-06 18:52:58</td>\n",
       "    </tr>\n",
       "    <tr>\n",
       "      <th>2</th>\n",
       "      <td>6922444491712477</td>\n",
       "      <td>2019-08-04 14:19:33</td>\n",
       "      <td>2019-08-04 14:19:40</td>\n",
       "      <td>2019-08-04 14:19:40</td>\n",
       "    </tr>\n",
       "    <tr>\n",
       "      <th>3</th>\n",
       "      <td>7435777799948366</td>\n",
       "      <td>2019-08-05 08:06:34</td>\n",
       "      <td>NaT</td>\n",
       "      <td>NaT</td>\n",
       "    </tr>\n",
       "    <tr>\n",
       "      <th>4</th>\n",
       "      <td>7702139951469979</td>\n",
       "      <td>2019-08-01 04:29:54</td>\n",
       "      <td>2019-08-02 14:28:45</td>\n",
       "      <td>2019-08-02 14:28:45</td>\n",
       "    </tr>\n",
       "    <tr>\n",
       "      <th>...</th>\n",
       "      <td>...</td>\n",
       "      <td>...</td>\n",
       "      <td>...</td>\n",
       "      <td>...</td>\n",
       "    </tr>\n",
       "    <tr>\n",
       "      <th>7513</th>\n",
       "      <td>9217594193087726423</td>\n",
       "      <td>NaT</td>\n",
       "      <td>2019-08-02 09:00:58</td>\n",
       "      <td>2019-08-02 09:00:57</td>\n",
       "    </tr>\n",
       "    <tr>\n",
       "      <th>7514</th>\n",
       "      <td>9219463515465815368</td>\n",
       "      <td>2019-08-05 05:26:26</td>\n",
       "      <td>2019-08-06 16:49:40</td>\n",
       "      <td>2019-08-06 16:52:16</td>\n",
       "    </tr>\n",
       "    <tr>\n",
       "      <th>7515</th>\n",
       "      <td>9220879493065341500</td>\n",
       "      <td>2019-08-02 17:58:48</td>\n",
       "      <td>2019-08-02 17:59:16</td>\n",
       "      <td>NaT</td>\n",
       "    </tr>\n",
       "    <tr>\n",
       "      <th>7516</th>\n",
       "      <td>9221926045299980007</td>\n",
       "      <td>2019-08-01 17:30:27</td>\n",
       "      <td>NaT</td>\n",
       "      <td>NaT</td>\n",
       "    </tr>\n",
       "    <tr>\n",
       "      <th>7517</th>\n",
       "      <td>9222603179720523844</td>\n",
       "      <td>2019-08-01 06:52:13</td>\n",
       "      <td>NaT</td>\n",
       "      <td>NaT</td>\n",
       "    </tr>\n",
       "  </tbody>\n",
       "</table>\n",
       "<p>7518 rows × 4 columns</p>\n",
       "</div>"
      ],
      "text/plain": [
       "event                  uid    MainScreenAppear    CartScreenAppear  \\\n",
       "0         6888746892508752 2019-08-06 14:06:34                 NaT   \n",
       "1         6909561520679493 2019-08-06 18:52:54 2019-08-06 18:52:58   \n",
       "2         6922444491712477 2019-08-04 14:19:33 2019-08-04 14:19:40   \n",
       "3         7435777799948366 2019-08-05 08:06:34                 NaT   \n",
       "4         7702139951469979 2019-08-01 04:29:54 2019-08-02 14:28:45   \n",
       "...                    ...                 ...                 ...   \n",
       "7513   9217594193087726423                 NaT 2019-08-02 09:00:58   \n",
       "7514   9219463515465815368 2019-08-05 05:26:26 2019-08-06 16:49:40   \n",
       "7515   9220879493065341500 2019-08-02 17:58:48 2019-08-02 17:59:16   \n",
       "7516   9221926045299980007 2019-08-01 17:30:27                 NaT   \n",
       "7517   9222603179720523844 2019-08-01 06:52:13                 NaT   \n",
       "\n",
       "event PaymentScreenSuccessful  \n",
       "0                         NaT  \n",
       "1         2019-08-06 18:52:58  \n",
       "2         2019-08-04 14:19:40  \n",
       "3                         NaT  \n",
       "4         2019-08-02 14:28:45  \n",
       "...                       ...  \n",
       "7513      2019-08-02 09:00:57  \n",
       "7514      2019-08-06 16:52:16  \n",
       "7515                      NaT  \n",
       "7516                      NaT  \n",
       "7517                      NaT  \n",
       "\n",
       "[7518 rows x 4 columns]"
      ]
     },
     "execution_count": 27,
     "metadata": {},
     "output_type": "execute_result"
    }
   ],
   "source": [
    "df"
   ]
  },
  {
   "cell_type": "markdown",
   "metadata": {},
   "source": [
    "Now let's clear the data, so we will only have users who have been to main screen and who also have got to other screens after they'd got to main."
   ]
  },
  {
   "cell_type": "code",
   "execution_count": 28,
   "metadata": {},
   "outputs": [],
   "source": [
    "def sanity_check (row):\n",
    "    #clear rows that don't have visit to main screen and rows that had entrance to the cart or \n",
    "    #payment before visit to main screen\n",
    "    if pd.isnull(row['MainScreenAppear']) == True: return False\n",
    "    elif row['MainScreenAppear'] > row['CartScreenAppear'] or row['MainScreenAppear'] > row['PaymentScreenSuccessful']:\n",
    "            return False\n",
    "    else: return True\n",
    "    "
   ]
  },
  {
   "cell_type": "code",
   "execution_count": 29,
   "metadata": {},
   "outputs": [
    {
     "data": {
      "text/html": [
       "<div>\n",
       "<style scoped>\n",
       "    .dataframe tbody tr th:only-of-type {\n",
       "        vertical-align: middle;\n",
       "    }\n",
       "\n",
       "    .dataframe tbody tr th {\n",
       "        vertical-align: top;\n",
       "    }\n",
       "\n",
       "    .dataframe thead th {\n",
       "        text-align: right;\n",
       "    }\n",
       "</style>\n",
       "<table border=\"1\" class=\"dataframe\">\n",
       "  <thead>\n",
       "    <tr style=\"text-align: right;\">\n",
       "      <th>event</th>\n",
       "      <th>uid</th>\n",
       "      <th>MainScreenAppear</th>\n",
       "      <th>CartScreenAppear</th>\n",
       "      <th>PaymentScreenSuccessful</th>\n",
       "    </tr>\n",
       "  </thead>\n",
       "  <tbody>\n",
       "    <tr>\n",
       "      <th>0</th>\n",
       "      <td>6888746892508752</td>\n",
       "      <td>2019-08-06 14:06:34</td>\n",
       "      <td>NaT</td>\n",
       "      <td>NaT</td>\n",
       "    </tr>\n",
       "    <tr>\n",
       "      <th>1</th>\n",
       "      <td>6909561520679493</td>\n",
       "      <td>2019-08-06 18:52:54</td>\n",
       "      <td>2019-08-06 18:52:58</td>\n",
       "      <td>2019-08-06 18:52:58</td>\n",
       "    </tr>\n",
       "    <tr>\n",
       "      <th>2</th>\n",
       "      <td>6922444491712477</td>\n",
       "      <td>2019-08-04 14:19:33</td>\n",
       "      <td>2019-08-04 14:19:40</td>\n",
       "      <td>2019-08-04 14:19:40</td>\n",
       "    </tr>\n",
       "    <tr>\n",
       "      <th>3</th>\n",
       "      <td>7435777799948366</td>\n",
       "      <td>2019-08-05 08:06:34</td>\n",
       "      <td>NaT</td>\n",
       "      <td>NaT</td>\n",
       "    </tr>\n",
       "    <tr>\n",
       "      <th>4</th>\n",
       "      <td>7702139951469979</td>\n",
       "      <td>2019-08-01 04:29:54</td>\n",
       "      <td>2019-08-02 14:28:45</td>\n",
       "      <td>2019-08-02 14:28:45</td>\n",
       "    </tr>\n",
       "  </tbody>\n",
       "</table>\n",
       "</div>"
      ],
      "text/plain": [
       "event               uid    MainScreenAppear    CartScreenAppear  \\\n",
       "0      6888746892508752 2019-08-06 14:06:34                 NaT   \n",
       "1      6909561520679493 2019-08-06 18:52:54 2019-08-06 18:52:58   \n",
       "2      6922444491712477 2019-08-04 14:19:33 2019-08-04 14:19:40   \n",
       "3      7435777799948366 2019-08-05 08:06:34                 NaT   \n",
       "4      7702139951469979 2019-08-01 04:29:54 2019-08-02 14:28:45   \n",
       "\n",
       "event PaymentScreenSuccessful  \n",
       "0                         NaT  \n",
       "1         2019-08-06 18:52:58  \n",
       "2         2019-08-04 14:19:40  \n",
       "3                         NaT  \n",
       "4         2019-08-02 14:28:45  "
      ]
     },
     "execution_count": 29,
     "metadata": {},
     "output_type": "execute_result"
    }
   ],
   "source": [
    "df['sanity_check'] = df.apply(sanity_check, axis=1)\n",
    "funnel = df.query('sanity_check ==True')[['uid','MainScreenAppear','CartScreenAppear','PaymentScreenSuccessful']]\n",
    "funnel.head()"
   ]
  },
  {
   "cell_type": "markdown",
   "metadata": {},
   "source": [
    "### At what stage do you lose the most users? What share of users make the entire journey from their first event to payment?  <a class=\"anchor\" id=\"section_3_5\"></a>"
   ]
  },
  {
   "cell_type": "code",
   "execution_count": 30,
   "metadata": {},
   "outputs": [
    {
     "name": "stdout",
     "output_type": "stream",
     "text": [
      "7213 users start by getting to the main screen.\n",
      "Out of them only 3430 get to Shopping Cart screen. That is 47.55% of users, who have been to main screen.\n",
      "Out of them only 3239 succeed with payment. That is 94.43% of users, who got to Shopping Cart and 44.91% of users who have been to main screen.\n"
     ]
    }
   ],
   "source": [
    "print (funnel.MainScreenAppear.count(), 'users start by getting to the main screen.')\n",
    "print ('Out of them only {:.0f} get to Shopping Cart screen. That is {:.2%} of users, who have been to main screen.'\n",
    "       .format(funnel.CartScreenAppear.count(), funnel.CartScreenAppear.count()/funnel.MainScreenAppear.count()))\n",
    "print ('Out of them only {:.0f} succeed with payment. That is {:.2%} of users, who got to Shopping Cart and {:.2%} of users who have been to main screen.'\n",
    "      .format(funnel.PaymentScreenSuccessful.count(),funnel.PaymentScreenSuccessful.count()/funnel.CartScreenAppear.count(),\n",
    "             funnel.PaymentScreenSuccessful.count()/funnel.MainScreenAppear.count()))"
   ]
  },
  {
   "cell_type": "markdown",
   "metadata": {},
   "source": [
    "So most of our users get lost in transaction from main screen to shopping cart screen. Actually most of the users who get to shopping cart tend to make entire journey. But group result is a little worse. Just 44.91% of all users get to the very end. But that's actually really good conversion.\n",
    "\n",
    "A good way to increase this conversion might be increasing number of users, who see offers screen, or maybe send notifications to users, who have been to main screen, but haven't proceeded."
   ]
  },
  {
   "cell_type": "markdown",
   "metadata": {},
   "source": [
    "### Conclusion <a class=\"anchor\" id=\"section_3_6\"></a>"
   ]
  },
  {
   "cell_type": "markdown",
   "metadata": {},
   "source": [
    "By performing funnel analysis I have found out several things:\n",
    "1. Tutorial is an optional page, that gets visited only by 10% of users;\n",
    "2. Most of users get to Main Screen, but only 61% see Offers screen appear;\n",
    "3. 48% of users who have been to the main screen get to shopping cart afterwards;\n",
    "4. 94% of users who get to shopping cart sooner or later proceen with their payment."
   ]
  },
  {
   "cell_type": "markdown",
   "metadata": {},
   "source": [
    "## Step 4. Study the results of the experiment <a class=\"anchor\" id=\"chapter4\"></a>"
   ]
  },
  {
   "cell_type": "markdown",
   "metadata": {},
   "source": [
    "### How many users are there in each group? <a class=\"anchor\" id=\"section_4_1\"></a>"
   ]
  },
  {
   "cell_type": "code",
   "execution_count": 31,
   "metadata": {},
   "outputs": [
    {
     "data": {
      "text/html": [
       "<div>\n",
       "<style scoped>\n",
       "    .dataframe tbody tr th:only-of-type {\n",
       "        vertical-align: middle;\n",
       "    }\n",
       "\n",
       "    .dataframe tbody tr th {\n",
       "        vertical-align: top;\n",
       "    }\n",
       "\n",
       "    .dataframe thead th {\n",
       "        text-align: right;\n",
       "    }\n",
       "</style>\n",
       "<table border=\"1\" class=\"dataframe\">\n",
       "  <thead>\n",
       "    <tr style=\"text-align: right;\">\n",
       "      <th></th>\n",
       "      <th>expid</th>\n",
       "      <th>unique_users</th>\n",
       "    </tr>\n",
       "  </thead>\n",
       "  <tbody>\n",
       "    <tr>\n",
       "      <th>0</th>\n",
       "      <td>246</td>\n",
       "      <td>2484</td>\n",
       "    </tr>\n",
       "    <tr>\n",
       "      <th>1</th>\n",
       "      <td>247</td>\n",
       "      <td>2513</td>\n",
       "    </tr>\n",
       "    <tr>\n",
       "      <th>2</th>\n",
       "      <td>248</td>\n",
       "      <td>2537</td>\n",
       "    </tr>\n",
       "  </tbody>\n",
       "</table>\n",
       "</div>"
      ],
      "text/plain": [
       "  expid  unique_users\n",
       "0   246          2484\n",
       "1   247          2513\n",
       "2   248          2537"
      ]
     },
     "execution_count": 31,
     "metadata": {},
     "output_type": "execute_result"
    }
   ],
   "source": [
    "logs_clean.groupby('expid').agg(unique_users=('uid','nunique')).reset_index()"
   ]
  },
  {
   "cell_type": "markdown",
   "metadata": {},
   "source": [
    "There's similar amount of users in each group, so I will carry on with the test."
   ]
  },
  {
   "cell_type": "markdown",
   "metadata": {},
   "source": [
    "### We have two control groups in the A/A test, where we check our mechanisms and calculations. See if there is a statistically significant difference between samples 246 and 247. <a class=\"anchor\" id=\"section_4_2\"></a>"
   ]
  },
  {
   "cell_type": "markdown",
   "metadata": {},
   "source": [
    "first let's create pivot table of amount of users on different stages for all samples."
   ]
  },
  {
   "cell_type": "code",
   "execution_count": 32,
   "metadata": {},
   "outputs": [
    {
     "data": {
      "text/html": [
       "<div>\n",
       "<style scoped>\n",
       "    .dataframe tbody tr th:only-of-type {\n",
       "        vertical-align: middle;\n",
       "    }\n",
       "\n",
       "    .dataframe tbody tr th {\n",
       "        vertical-align: top;\n",
       "    }\n",
       "\n",
       "    .dataframe thead th {\n",
       "        text-align: right;\n",
       "    }\n",
       "</style>\n",
       "<table border=\"1\" class=\"dataframe\">\n",
       "  <thead>\n",
       "    <tr style=\"text-align: right;\">\n",
       "      <th>expid</th>\n",
       "      <th>246</th>\n",
       "      <th>247</th>\n",
       "      <th>248</th>\n",
       "    </tr>\n",
       "    <tr>\n",
       "      <th>event</th>\n",
       "      <th></th>\n",
       "      <th></th>\n",
       "      <th></th>\n",
       "    </tr>\n",
       "  </thead>\n",
       "  <tbody>\n",
       "    <tr>\n",
       "      <th>CartScreenAppear</th>\n",
       "      <td>1266</td>\n",
       "      <td>1238</td>\n",
       "      <td>1230</td>\n",
       "    </tr>\n",
       "    <tr>\n",
       "      <th>MainScreenAppear</th>\n",
       "      <td>2450</td>\n",
       "      <td>2476</td>\n",
       "      <td>2493</td>\n",
       "    </tr>\n",
       "    <tr>\n",
       "      <th>OffersScreenAppear</th>\n",
       "      <td>1542</td>\n",
       "      <td>1520</td>\n",
       "      <td>1531</td>\n",
       "    </tr>\n",
       "    <tr>\n",
       "      <th>PaymentScreenSuccessful</th>\n",
       "      <td>1200</td>\n",
       "      <td>1158</td>\n",
       "      <td>1181</td>\n",
       "    </tr>\n",
       "    <tr>\n",
       "      <th>Tutorial</th>\n",
       "      <td>278</td>\n",
       "      <td>283</td>\n",
       "      <td>279</td>\n",
       "    </tr>\n",
       "  </tbody>\n",
       "</table>\n",
       "</div>"
      ],
      "text/plain": [
       "expid                     246   247   248\n",
       "event                                    \n",
       "CartScreenAppear         1266  1238  1230\n",
       "MainScreenAppear         2450  2476  2493\n",
       "OffersScreenAppear       1542  1520  1531\n",
       "PaymentScreenSuccessful  1200  1158  1181\n",
       "Tutorial                  278   283   279"
      ]
     },
     "execution_count": 32,
     "metadata": {},
     "output_type": "execute_result"
    }
   ],
   "source": [
    "exp_results = logs_clean.pivot_table(index=logs_clean['event'].astype(\"str\"), values='uid', columns='expid', aggfunc='nunique')\n",
    "exp_results\n"
   ]
  },
  {
   "cell_type": "markdown",
   "metadata": {},
   "source": [
    "So here I will first be checking if there is a statistical difference between groups 246 and 247 in conversion aka proportion:\n",
    "\n",
    "\n",
    "\"Is the share of users (from all users in the test) that had \"CartScreenAppear\",\"MainScreenAppear\", etc. of test group <u><b>246</b></u> statistically different from share of users from group <u><b>247</b></u>?\""
   ]
  },
  {
   "cell_type": "markdown",
   "metadata": {},
   "source": [
    "To do that I will use the text of proportions, or z-score. My H0 will be: \n",
    "\n",
    "<u>\"Share of users in group 246 for each category <b>is not</b> different from share of users in group 247 for each category.\"</u>\n",
    "\n",
    "And alternative hypothesys will be:\n",
    "\n",
    "<u>\"Share of users in group 246 for each category <b>is</b>  different from share of users in group 247 for each category.\"</u>"
   ]
  },
  {
   "cell_type": "code",
   "execution_count": 33,
   "metadata": {},
   "outputs": [],
   "source": [
    "def check_hypothesis(group1,group2, event, alpha=0.05):\n",
    "    \n",
    "    #get success for each group\n",
    "    successes1=exp_results[exp_results.index == event][group1].iloc[0]\n",
    "    successes2=exp_results[exp_results.index == event][group2].iloc[0]\n",
    "    \n",
    "    #for trials take the data from original df or used a pre-aggregated data\n",
    "    trials1=logs_clean[logs_clean.expid==group1]['uid'].nunique()\n",
    "    trials2=logs_clean[logs_clean.expid==group2]['uid'].nunique()\n",
    "    \n",
    "    \n",
    "     #proportion for success in the first group\n",
    "    p1 = successes1/trials1\n",
    "\n",
    "   #proportion for success in the second group\n",
    "    p2 = successes2/trials2\n",
    "\n",
    "    # proportion in a combined dataset\n",
    "    p_combined = (successes1 + successes2) / (trials1 + trials2)\n",
    "\n",
    "  \n",
    "    difference = p1 - p2\n",
    "    \n",
    "    \n",
    "    z_value = difference / mth.sqrt(p_combined * (1 - p_combined) * (1/trials1 + 1/trials2))\n",
    "\n",
    "  \n",
    "    distr = st.norm(0, 1) \n",
    "\n",
    "\n",
    "    p_value = (1 - distr.cdf(abs(z_value))) * 2\n",
    "\n",
    "    print('p-value: ', p_value)\n",
    "\n",
    "    if (p_value < alpha):\n",
    "        print(\"Reject H0 for\",event, 'and groups',group1,group2)\n",
    "    else:\n",
    "        print(\"Fail to Reject H0 for\", event,'and groups',group1,group2,'\\n')"
   ]
  },
  {
   "cell_type": "markdown",
   "metadata": {},
   "source": [
    "I'm going to use Holm method to calculate significance level this test for my test to have higher power. I'm going to perform 15 tests, and I want my total significance level to be 0.05. So I'll get me a list of alphas for all the tests."
   ]
  },
  {
   "cell_type": "code",
   "execution_count": 34,
   "metadata": {},
   "outputs": [],
   "source": [
    "#define significance level for each event\n",
    "def holm_method_calc(total_alpha, number_of_tests):\n",
    "    counter = 0\n",
    "    alpha = []\n",
    "    for m in range(0, number_of_tests):\n",
    "        a = a = total_alpha / (number_of_tests-counter) \n",
    "        counter += 1\n",
    "        alpha.append(a)\n",
    "    return alpha"
   ]
  },
  {
   "cell_type": "code",
   "execution_count": 35,
   "metadata": {},
   "outputs": [],
   "source": [
    "#get list of alphas for final significance level of 0.15 and 15 total tests.\n",
    "alpha_15_exp = holm_method_calc(0.05, 15)"
   ]
  },
  {
   "cell_type": "code",
   "execution_count": 36,
   "metadata": {},
   "outputs": [
    {
     "name": "stdout",
     "output_type": "stream",
     "text": [
      "p-value:  0.22883372237997213\n",
      "Fail to Reject H0 for CartScreenAppear and groups 246 247 \n",
      "\n",
      "p-value:  0.7570597232046099\n",
      "Fail to Reject H0 for MainScreenAppear and groups 246 247 \n",
      "\n",
      "p-value:  0.2480954578522181\n",
      "Fail to Reject H0 for OffersScreenAppear and groups 246 247 \n",
      "\n",
      "p-value:  0.11456679313141849\n",
      "Fail to Reject H0 for PaymentScreenSuccessful and groups 246 247 \n",
      "\n",
      "p-value:  0.9376996189257114\n",
      "Fail to Reject H0 for Tutorial and groups 246 247 \n",
      "\n"
     ]
    }
   ],
   "source": [
    "test_counter = 0\n",
    "for i in exp_results.index.tolist():\n",
    "    check_hypothesis(246,247, i, alpha=alpha_15_exp[test_counter])\n",
    "    test_counter +=1\n",
    "    \n",
    "#save sounter for the next test\n",
    "test_checkpoint = test_counter\n"
   ]
  },
  {
   "cell_type": "markdown",
   "metadata": {},
   "source": [
    "That is great result! It means that our A/A test doesn't show statistical difference between our 2 control groups, that means that groups that have recieved the same fonts show simillar result. So I can proceed to testing of groups with alterating fonts."
   ]
  },
  {
   "cell_type": "markdown",
   "metadata": {},
   "source": [
    "### Check for statistically significant difference between control groups and group with altered fonts. <a class=\"anchor\" id=\"section_4_3\"></a>\n"
   ]
  },
  {
   "cell_type": "markdown",
   "metadata": {},
   "source": [
    "Here I'll perform 2 tests for finding difference between each control group and test group."
   ]
  },
  {
   "cell_type": "markdown",
   "metadata": {},
   "source": [
    "First I'll compare group 246 and group 248. My H0 will be: \n",
    "\n",
    "<u>\"Share of users in group 246 for each category <b>is not</b> different from share of users in group 248 for each category.\"</u>\n",
    "\n",
    "My alternative hypothesis will be:\n",
    "\n",
    "<u>\"Share of users in group 246 for each category <b>is</b> different from share of users in group 248 for each category.\"</u>"
   ]
  },
  {
   "cell_type": "code",
   "execution_count": 37,
   "metadata": {},
   "outputs": [
    {
     "name": "stdout",
     "output_type": "stream",
     "text": [
      "p-value:  0.07842923237520116\n",
      "Fail to Reject H0 for CartScreenAppear and groups 246 248 \n",
      "\n",
      "p-value:  0.2949721933554552\n",
      "Fail to Reject H0 for MainScreenAppear and groups 246 248 \n",
      "\n",
      "p-value:  0.20836205402738917\n",
      "Fail to Reject H0 for OffersScreenAppear and groups 246 248 \n",
      "\n",
      "p-value:  0.2122553275697796\n",
      "Fail to Reject H0 for PaymentScreenSuccessful and groups 246 248 \n",
      "\n",
      "p-value:  0.8264294010087645\n",
      "Fail to Reject H0 for Tutorial and groups 246 248 \n",
      "\n"
     ]
    }
   ],
   "source": [
    "#get counter value from previos test\n",
    "test_counter = test_checkpoint\n",
    "\n",
    "for i in exp_results.index.tolist():\n",
    "    check_hypothesis(246,248, i, alpha=alpha_15_exp[test_counter])\n",
    "    test_counter +=1\n",
    "\n",
    "#save sounter for the next test\n",
    "test_checkpoint = test_counter"
   ]
  },
  {
   "cell_type": "markdown",
   "metadata": {},
   "source": [
    "#### Conclusion\n",
    "That means that there isn't any statisticaly significant difference between group 246 with old fonts and group 248 with new fonts."
   ]
  },
  {
   "cell_type": "markdown",
   "metadata": {},
   "source": [
    "Now let's compare group 247 with test group 248. My H0 will be: \n",
    "\n",
    "<u>\"Share of users in group 247 for each category is not different from share of users in group 248 for each category.\"</u>\n",
    "\n",
    "My alternative hypothesis will be:\n",
    "\n",
    "<u>\"Share of users in group 247 for each category <b>is</b> different from share of users in group 248 for each category.\"</u>"
   ]
  },
  {
   "cell_type": "code",
   "execution_count": 38,
   "metadata": {},
   "outputs": [
    {
     "name": "stdout",
     "output_type": "stream",
     "text": [
      "p-value:  0.5786197879539783\n",
      "Fail to Reject H0 for CartScreenAppear and groups 247 248 \n",
      "\n",
      "p-value:  0.4587053616621515\n",
      "Fail to Reject H0 for MainScreenAppear and groups 247 248 \n",
      "\n",
      "p-value:  0.9197817830592261\n",
      "Fail to Reject H0 for OffersScreenAppear and groups 247 248 \n",
      "\n",
      "p-value:  0.7373415053803964\n",
      "Fail to Reject H0 for PaymentScreenSuccessful and groups 247 248 \n",
      "\n",
      "p-value:  0.765323922474501\n",
      "Fail to Reject H0 for Tutorial and groups 247 248 \n",
      "\n"
     ]
    }
   ],
   "source": [
    "#get counter value from previos test\n",
    "test_counter = test_checkpoint\n",
    "\n",
    "for i in exp_results.index.tolist():\n",
    "    check_hypothesis(247,248, i, alpha=alpha_15_exp[test_counter])\n",
    "    test_counter +=1"
   ]
  },
  {
   "cell_type": "markdown",
   "metadata": {},
   "source": [
    "#### Conclusion\n",
    "That means that there isn't any statisticaly significant difference between group 247 with old fonts and group 248 with new fonts."
   ]
  },
  {
   "cell_type": "markdown",
   "metadata": {},
   "source": [
    "### Conclusion <a class=\"anchor\" id=\"section_4_4\"></a>"
   ]
  },
  {
   "cell_type": "markdown",
   "metadata": {},
   "source": [
    "After conducting all these test I can say with 95% certainty that there wasn't any statistically significant difference of conversion between group that got new fonts and groups that stayed with the old ones. So the company can ether keep the old fonts or change to new ones, it's unlikely to make any difference."
   ]
  },
  {
   "cell_type": "markdown",
   "metadata": {},
   "source": [
    "## Step 5. General conclusion <a class=\"anchor\" id=\"chapter5\"></a>"
   ]
  },
  {
   "cell_type": "markdown",
   "metadata": {},
   "source": [
    "After conducting this analysis I have come to these results:\n",
    "1. Most of users get to Main Screen, but only 61% see Offers screen appear;\n",
    "3. 48% of users who have been to the main screen get to shopping cart afterwards;\n",
    "4. 94% of users who get to Shopping Cart sooner or later proceen with their payment;\n",
    "5. It may be a good idea to send notifications to users who have been to main screen, but haven't proceeded;\n",
    "6. After analysing test results I have found out that with 95% certainty changing fonts doesnt affect app conversion, i.e. we can proceed ether with old fonts or with new ones."
   ]
  }
 ],
 "metadata": {
  "kernelspec": {
   "display_name": "Python 3",
   "language": "python",
   "name": "python3"
  },
  "language_info": {
   "codemirror_mode": {
    "name": "ipython",
    "version": 3
   },
   "file_extension": ".py",
   "mimetype": "text/x-python",
   "name": "python",
   "nbconvert_exporter": "python",
   "pygments_lexer": "ipython3",
   "version": "3.7.6"
  }
 },
 "nbformat": 4,
 "nbformat_minor": 4
}
