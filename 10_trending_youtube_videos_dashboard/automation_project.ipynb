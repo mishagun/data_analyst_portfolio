{
 "cells": [
  {
   "cell_type": "markdown",
   "metadata": {},
   "source": [
    "# Extraction of data from the database"
   ]
  },
  {
   "cell_type": "markdown",
   "metadata": {},
   "source": [
    "Here I'm going to extract relevant data from the database."
   ]
  },
  {
   "cell_type": "code",
   "execution_count": 1,
   "metadata": {},
   "outputs": [],
   "source": [
    "import pandas as pd\n",
    "\n",
    "from sqlalchemy import create_engine"
   ]
  },
  {
   "cell_type": "code",
   "execution_count": 2,
   "metadata": {},
   "outputs": [
    {
     "name": "stdout",
     "output_type": "stream",
     "text": [
      "Requirement already satisfied: psycopg2-binary in /Applications/anaconda3/lib/python3.7/site-packages (2.8.6)\r\n"
     ]
    }
   ],
   "source": [
    "!pip install psycopg2-binary "
   ]
  },
  {
   "cell_type": "code",
   "execution_count": 6,
   "metadata": {},
   "outputs": [
    {
     "data": {
      "text/html": [
       "<div>\n",
       "<style scoped>\n",
       "    .dataframe tbody tr th:only-of-type {\n",
       "        vertical-align: middle;\n",
       "    }\n",
       "\n",
       "    .dataframe tbody tr th {\n",
       "        vertical-align: top;\n",
       "    }\n",
       "\n",
       "    .dataframe thead th {\n",
       "        text-align: right;\n",
       "    }\n",
       "</style>\n",
       "<table border=\"1\" class=\"dataframe\">\n",
       "  <thead>\n",
       "    <tr style=\"text-align: right;\">\n",
       "      <th></th>\n",
       "      <th>region</th>\n",
       "      <th>trending_date</th>\n",
       "      <th>category_title</th>\n",
       "      <th>videos_count</th>\n",
       "    </tr>\n",
       "    <tr>\n",
       "      <th>record_id</th>\n",
       "      <th></th>\n",
       "      <th></th>\n",
       "      <th></th>\n",
       "      <th></th>\n",
       "    </tr>\n",
       "  </thead>\n",
       "  <tbody>\n",
       "    <tr>\n",
       "      <th>1</th>\n",
       "      <td>France</td>\n",
       "      <td>2017-11-14</td>\n",
       "      <td>Autos &amp; Vehicles</td>\n",
       "      <td>8</td>\n",
       "    </tr>\n",
       "    <tr>\n",
       "      <th>2</th>\n",
       "      <td>France</td>\n",
       "      <td>2017-11-15</td>\n",
       "      <td>Autos &amp; Vehicles</td>\n",
       "      <td>2</td>\n",
       "    </tr>\n",
       "    <tr>\n",
       "      <th>3</th>\n",
       "      <td>France</td>\n",
       "      <td>2017-11-16</td>\n",
       "      <td>Autos &amp; Vehicles</td>\n",
       "      <td>6</td>\n",
       "    </tr>\n",
       "    <tr>\n",
       "      <th>4</th>\n",
       "      <td>France</td>\n",
       "      <td>2017-11-17</td>\n",
       "      <td>Autos &amp; Vehicles</td>\n",
       "      <td>8</td>\n",
       "    </tr>\n",
       "    <tr>\n",
       "      <th>5</th>\n",
       "      <td>France</td>\n",
       "      <td>2017-11-18</td>\n",
       "      <td>Autos &amp; Vehicles</td>\n",
       "      <td>4</td>\n",
       "    </tr>\n",
       "  </tbody>\n",
       "</table>\n",
       "</div>"
      ],
      "text/plain": [
       "           region trending_date    category_title  videos_count\n",
       "record_id                                                      \n",
       "1          France    2017-11-14  Autos & Vehicles             8\n",
       "2          France    2017-11-15  Autos & Vehicles             2\n",
       "3          France    2017-11-16  Autos & Vehicles             6\n",
       "4          France    2017-11-17  Autos & Vehicles             8\n",
       "5          France    2017-11-18  Autos & Vehicles             4"
      ]
     },
     "execution_count": 6,
     "metadata": {},
     "output_type": "execute_result"
    }
   ],
   "source": [
    "db_config = {'user': 'practicum_student',\n",
    "             'pwd': 's65BlTKV3faNIGhmvJVzOqhs',\n",
    "             'host': 'rc1b-wcoijxj3yxfsf3fs.mdb.yandexcloud.net',\n",
    "             'port': 6432,\n",
    "             'db': 'data-analyst-youtube-data'}\n",
    "\n",
    "engine = create_engine('postgresql://{}:{}@{}:{}/{}'.format(db_config['user'],\n",
    "                                                            db_config['pwd'],\n",
    "                                                            db_config['host'],\n",
    "                                                            db_config['port'],\n",
    "                                                            db_config['db']))\n",
    "query = '''\n",
    "           SELECT *\n",
    "           FROM trending_by_time\n",
    "        '''\n",
    "\n",
    "trending_by_time = pd.io.sql.read_sql(query, con = engine, index_col = 'record_id')\n",
    "\n",
    "trending_by_time.to_csv('trending_by_time.csv', index = False)\n",
    "\n",
    "trending_by_time.head(5)"
   ]
  },
  {
   "cell_type": "code",
   "execution_count": null,
   "metadata": {},
   "outputs": [],
   "source": []
  }
 ],
 "metadata": {
  "kernelspec": {
   "display_name": "Python 3",
   "language": "python",
   "name": "python3"
  },
  "language_info": {
   "codemirror_mode": {
    "name": "ipython",
    "version": 3
   },
   "file_extension": ".py",
   "mimetype": "text/x-python",
   "name": "python",
   "nbconvert_exporter": "python",
   "pygments_lexer": "ipython3",
   "version": "3.7.6"
  }
 },
 "nbformat": 4,
 "nbformat_minor": 4
}
